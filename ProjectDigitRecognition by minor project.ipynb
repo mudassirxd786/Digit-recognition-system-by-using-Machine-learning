{
 "cells": [
  {
   "cell_type": "markdown",
   "metadata": {},
   "source": [
    "Model Info\n",
    "This code is an example of a machine learning pipeline for Digit Recognition.\n",
    "This logistic regression model used in this code for classifying digits from the MNIST dataset has several practical applications and implications in the tech field:\n",
    "    -Forms Processing: Automatic recognition and digitization of handwritten forms and documents.\n",
    "    -Document Scanning: Enhancing the ability of scanners and software to recognize and digitize handwritten text.\n",
    "    -Bank Forms: Digitization and processing of handwritten banking forms.\n"
   ]
  },
  {
   "cell_type": "markdown",
   "metadata": {},
   "source": [
    "1 - Preparing the Data:\n",
    "    It imports necessary libraries for machine learning, data handling, and visualization.\n",
    "    scikit-learn (sklearn): A machine learning library that provides tools for data preprocessing, model training, and evaluation.\n",
    "    pandas: A library for data manipulation and analysis.\n",
    "    matplotlib.pyplot: For plotting and visualization.\n",
    "    The MNIST dataset is fetched from OpenML. This dataset contains images of handwritten digits."
   ]
  },
  {
   "cell_type": "code",
   "execution_count": 2,
   "metadata": {},
   "outputs": [],
   "source": [
    "\n",
    "from sklearn.model_selection import cross_val_score\n",
    "from sklearn.datasets import fetch_openml\n",
    "import pandas as pd\n",
    "import matplotlib.pyplot as plt\n",
    "import numpy as np\n",
    "from sklearn.model_selection import train_test_split\n",
    "from sklearn.linear_model import  LogisticRegression\n",
    "import seaborn as sns"
   ]
  },
  {
   "cell_type": "markdown",
   "metadata": {},
   "source": [
    "2 - Fetching Data Extracting Data\n",
    "    fetch_openml('mnist_784', version=1): Fetches the MNIST dataset, which consists of 70,000 images of handwritten digits (0-9), each of size 28x28 pixels.\n",
    "    X: Contains the image data (features) in a flat array of 784 (28x28) pixels.\n",
    "    Y: Contains the corresponding labels (targets), which are the digits (0-9).    "
   ]
  },
  {
   "cell_type": "code",
   "execution_count": 4,
   "metadata": {},
   "outputs": [
    {
     "ename": "OpenMLError",
     "evalue": "Dataset emnist-balanced with version 1 not found.",
     "output_type": "error",
     "traceback": [
      "\u001b[1;31m---------------------------------------------------------------------------\u001b[0m",
      "\u001b[1;31mOpenMLError\u001b[0m                               Traceback (most recent call last)",
      "File \u001b[1;32mc:\\Users\\gulam\\AppData\\Local\\Programs\\Python\\Python312\\Lib\\site-packages\\sklearn\\datasets\\_openml.py:326\u001b[0m, in \u001b[0;36m_get_data_info_by_name\u001b[1;34m(name, version, data_home, n_retries, delay)\u001b[0m\n\u001b[0;32m    325\u001b[0m \u001b[38;5;28;01mtry\u001b[39;00m:\n\u001b[1;32m--> 326\u001b[0m     json_data \u001b[38;5;241m=\u001b[39m \u001b[43m_get_json_content_from_openml_api\u001b[49m\u001b[43m(\u001b[49m\n\u001b[0;32m    327\u001b[0m \u001b[43m        \u001b[49m\u001b[43murl\u001b[49m\u001b[43m,\u001b[49m\n\u001b[0;32m    328\u001b[0m \u001b[43m        \u001b[49m\u001b[43merror_message\u001b[49m\u001b[38;5;241;43m=\u001b[39;49m\u001b[38;5;28;43;01mNone\u001b[39;49;00m\u001b[43m,\u001b[49m\n\u001b[0;32m    329\u001b[0m \u001b[43m        \u001b[49m\u001b[43mdata_home\u001b[49m\u001b[38;5;241;43m=\u001b[39;49m\u001b[43mdata_home\u001b[49m\u001b[43m,\u001b[49m\n\u001b[0;32m    330\u001b[0m \u001b[43m        \u001b[49m\u001b[43mn_retries\u001b[49m\u001b[38;5;241;43m=\u001b[39;49m\u001b[43mn_retries\u001b[49m\u001b[43m,\u001b[49m\n\u001b[0;32m    331\u001b[0m \u001b[43m        \u001b[49m\u001b[43mdelay\u001b[49m\u001b[38;5;241;43m=\u001b[39;49m\u001b[43mdelay\u001b[49m\u001b[43m,\u001b[49m\n\u001b[0;32m    332\u001b[0m \u001b[43m    \u001b[49m\u001b[43m)\u001b[49m\n\u001b[0;32m    333\u001b[0m \u001b[38;5;28;01mexcept\u001b[39;00m OpenMLError:\n\u001b[0;32m    334\u001b[0m     \u001b[38;5;66;03m# we can do this in 1 function call if OpenML does not require the\u001b[39;00m\n\u001b[0;32m    335\u001b[0m     \u001b[38;5;66;03m# specification of the dataset status (i.e., return datasets with a\u001b[39;00m\n\u001b[0;32m    336\u001b[0m     \u001b[38;5;66;03m# given name / version regardless of active, deactivated, etc. )\u001b[39;00m\n\u001b[0;32m    337\u001b[0m     \u001b[38;5;66;03m# TODO: feature request OpenML.\u001b[39;00m\n",
      "File \u001b[1;32mc:\\Users\\gulam\\AppData\\Local\\Programs\\Python\\Python312\\Lib\\site-packages\\sklearn\\datasets\\_openml.py:251\u001b[0m, in \u001b[0;36m_get_json_content_from_openml_api\u001b[1;34m(url, error_message, data_home, n_retries, delay)\u001b[0m\n\u001b[0;32m    250\u001b[0m \u001b[38;5;66;03m# 412 error, not in except for nicer traceback\u001b[39;00m\n\u001b[1;32m--> 251\u001b[0m \u001b[38;5;28;01mraise\u001b[39;00m OpenMLError(error_message)\n",
      "\u001b[1;31mOpenMLError\u001b[0m: None",
      "\nDuring handling of the above exception, another exception occurred:\n",
      "\u001b[1;31mOpenMLError\u001b[0m                               Traceback (most recent call last)",
      "Cell \u001b[1;32mIn[4], line 2\u001b[0m\n\u001b[0;32m      1\u001b[0m \u001b[38;5;66;03m# Fetching mnist data\u001b[39;00m\n\u001b[1;32m----> 2\u001b[0m dtaset \u001b[38;5;241m=\u001b[39m \u001b[43mfetch_openml\u001b[49m\u001b[43m(\u001b[49m\u001b[38;5;124;43m'\u001b[39;49m\u001b[38;5;124;43memnist-balanced\u001b[39;49m\u001b[38;5;124;43m'\u001b[39;49m\u001b[43m,\u001b[49m\u001b[43m \u001b[49m\u001b[43mversion\u001b[49m\u001b[38;5;241;43m=\u001b[39;49m\u001b[38;5;241;43m1\u001b[39;49m\u001b[43m)\u001b[49m\n",
      "File \u001b[1;32mc:\\Users\\gulam\\AppData\\Local\\Programs\\Python\\Python312\\Lib\\site-packages\\sklearn\\utils\\_param_validation.py:213\u001b[0m, in \u001b[0;36mvalidate_params.<locals>.decorator.<locals>.wrapper\u001b[1;34m(*args, **kwargs)\u001b[0m\n\u001b[0;32m    207\u001b[0m \u001b[38;5;28;01mtry\u001b[39;00m:\n\u001b[0;32m    208\u001b[0m     \u001b[38;5;28;01mwith\u001b[39;00m config_context(\n\u001b[0;32m    209\u001b[0m         skip_parameter_validation\u001b[38;5;241m=\u001b[39m(\n\u001b[0;32m    210\u001b[0m             prefer_skip_nested_validation \u001b[38;5;129;01mor\u001b[39;00m global_skip_validation\n\u001b[0;32m    211\u001b[0m         )\n\u001b[0;32m    212\u001b[0m     ):\n\u001b[1;32m--> 213\u001b[0m         \u001b[38;5;28;01mreturn\u001b[39;00m \u001b[43mfunc\u001b[49m\u001b[43m(\u001b[49m\u001b[38;5;241;43m*\u001b[39;49m\u001b[43margs\u001b[49m\u001b[43m,\u001b[49m\u001b[43m \u001b[49m\u001b[38;5;241;43m*\u001b[39;49m\u001b[38;5;241;43m*\u001b[39;49m\u001b[43mkwargs\u001b[49m\u001b[43m)\u001b[49m\n\u001b[0;32m    214\u001b[0m \u001b[38;5;28;01mexcept\u001b[39;00m InvalidParameterError \u001b[38;5;28;01mas\u001b[39;00m e:\n\u001b[0;32m    215\u001b[0m     \u001b[38;5;66;03m# When the function is just a wrapper around an estimator, we allow\u001b[39;00m\n\u001b[0;32m    216\u001b[0m     \u001b[38;5;66;03m# the function to delegate validation to the estimator, but we replace\u001b[39;00m\n\u001b[0;32m    217\u001b[0m     \u001b[38;5;66;03m# the name of the estimator by the name of the function in the error\u001b[39;00m\n\u001b[0;32m    218\u001b[0m     \u001b[38;5;66;03m# message to avoid confusion.\u001b[39;00m\n\u001b[0;32m    219\u001b[0m     msg \u001b[38;5;241m=\u001b[39m re\u001b[38;5;241m.\u001b[39msub(\n\u001b[0;32m    220\u001b[0m         \u001b[38;5;124mr\u001b[39m\u001b[38;5;124m\"\u001b[39m\u001b[38;5;124mparameter of \u001b[39m\u001b[38;5;124m\\\u001b[39m\u001b[38;5;124mw+ must be\u001b[39m\u001b[38;5;124m\"\u001b[39m,\n\u001b[0;32m    221\u001b[0m         \u001b[38;5;124mf\u001b[39m\u001b[38;5;124m\"\u001b[39m\u001b[38;5;124mparameter of \u001b[39m\u001b[38;5;132;01m{\u001b[39;00mfunc\u001b[38;5;241m.\u001b[39m\u001b[38;5;18m__qualname__\u001b[39m\u001b[38;5;132;01m}\u001b[39;00m\u001b[38;5;124m must be\u001b[39m\u001b[38;5;124m\"\u001b[39m,\n\u001b[0;32m    222\u001b[0m         \u001b[38;5;28mstr\u001b[39m(e),\n\u001b[0;32m    223\u001b[0m     )\n",
      "File \u001b[1;32mc:\\Users\\gulam\\AppData\\Local\\Programs\\Python\\Python312\\Lib\\site-packages\\sklearn\\datasets\\_openml.py:1008\u001b[0m, in \u001b[0;36mfetch_openml\u001b[1;34m(name, version, data_id, data_home, target_column, cache, return_X_y, as_frame, n_retries, delay, parser, read_csv_kwargs)\u001b[0m\n\u001b[0;32m   1002\u001b[0m     \u001b[38;5;28;01mif\u001b[39;00m data_id \u001b[38;5;129;01mis\u001b[39;00m \u001b[38;5;129;01mnot\u001b[39;00m \u001b[38;5;28;01mNone\u001b[39;00m:\n\u001b[0;32m   1003\u001b[0m         \u001b[38;5;28;01mraise\u001b[39;00m \u001b[38;5;167;01mValueError\u001b[39;00m(\n\u001b[0;32m   1004\u001b[0m             \u001b[38;5;124m\"\u001b[39m\u001b[38;5;124mDataset data_id=\u001b[39m\u001b[38;5;132;01m{}\u001b[39;00m\u001b[38;5;124m and name=\u001b[39m\u001b[38;5;132;01m{}\u001b[39;00m\u001b[38;5;124m passed, but you can only \u001b[39m\u001b[38;5;124m\"\u001b[39m\n\u001b[0;32m   1005\u001b[0m             \u001b[38;5;124m\"\u001b[39m\u001b[38;5;124mspecify a numeric data_id or a name, not \u001b[39m\u001b[38;5;124m\"\u001b[39m\n\u001b[0;32m   1006\u001b[0m             \u001b[38;5;124m\"\u001b[39m\u001b[38;5;124mboth.\u001b[39m\u001b[38;5;124m\"\u001b[39m\u001b[38;5;241m.\u001b[39mformat(data_id, name)\n\u001b[0;32m   1007\u001b[0m         )\n\u001b[1;32m-> 1008\u001b[0m     data_info \u001b[38;5;241m=\u001b[39m \u001b[43m_get_data_info_by_name\u001b[49m\u001b[43m(\u001b[49m\n\u001b[0;32m   1009\u001b[0m \u001b[43m        \u001b[49m\u001b[43mname\u001b[49m\u001b[43m,\u001b[49m\u001b[43m \u001b[49m\u001b[43mversion\u001b[49m\u001b[43m,\u001b[49m\u001b[43m \u001b[49m\u001b[43mdata_home\u001b[49m\u001b[43m,\u001b[49m\u001b[43m \u001b[49m\u001b[43mn_retries\u001b[49m\u001b[38;5;241;43m=\u001b[39;49m\u001b[43mn_retries\u001b[49m\u001b[43m,\u001b[49m\u001b[43m \u001b[49m\u001b[43mdelay\u001b[49m\u001b[38;5;241;43m=\u001b[39;49m\u001b[43mdelay\u001b[49m\n\u001b[0;32m   1010\u001b[0m \u001b[43m    \u001b[49m\u001b[43m)\u001b[49m\n\u001b[0;32m   1011\u001b[0m     data_id \u001b[38;5;241m=\u001b[39m data_info[\u001b[38;5;124m\"\u001b[39m\u001b[38;5;124mdid\u001b[39m\u001b[38;5;124m\"\u001b[39m]\n\u001b[0;32m   1012\u001b[0m \u001b[38;5;28;01melif\u001b[39;00m data_id \u001b[38;5;129;01mis\u001b[39;00m \u001b[38;5;129;01mnot\u001b[39;00m \u001b[38;5;28;01mNone\u001b[39;00m:\n\u001b[0;32m   1013\u001b[0m     \u001b[38;5;66;03m# from the previous if statement, it is given that name is None\u001b[39;00m\n",
      "File \u001b[1;32mc:\\Users\\gulam\\AppData\\Local\\Programs\\Python\\Python312\\Lib\\site-packages\\sklearn\\datasets\\_openml.py:340\u001b[0m, in \u001b[0;36m_get_data_info_by_name\u001b[1;34m(name, version, data_home, n_retries, delay)\u001b[0m\n\u001b[0;32m    338\u001b[0m     url \u001b[38;5;241m+\u001b[39m\u001b[38;5;241m=\u001b[39m \u001b[38;5;124m\"\u001b[39m\u001b[38;5;124m/status/deactivated\u001b[39m\u001b[38;5;124m\"\u001b[39m\n\u001b[0;32m    339\u001b[0m     error_msg \u001b[38;5;241m=\u001b[39m \u001b[38;5;124m\"\u001b[39m\u001b[38;5;124mDataset \u001b[39m\u001b[38;5;132;01m{}\u001b[39;00m\u001b[38;5;124m with version \u001b[39m\u001b[38;5;132;01m{}\u001b[39;00m\u001b[38;5;124m not found.\u001b[39m\u001b[38;5;124m\"\u001b[39m\u001b[38;5;241m.\u001b[39mformat(name, version)\n\u001b[1;32m--> 340\u001b[0m     json_data \u001b[38;5;241m=\u001b[39m \u001b[43m_get_json_content_from_openml_api\u001b[49m\u001b[43m(\u001b[49m\n\u001b[0;32m    341\u001b[0m \u001b[43m        \u001b[49m\u001b[43murl\u001b[49m\u001b[43m,\u001b[49m\n\u001b[0;32m    342\u001b[0m \u001b[43m        \u001b[49m\u001b[43merror_msg\u001b[49m\u001b[43m,\u001b[49m\n\u001b[0;32m    343\u001b[0m \u001b[43m        \u001b[49m\u001b[43mdata_home\u001b[49m\u001b[38;5;241;43m=\u001b[39;49m\u001b[43mdata_home\u001b[49m\u001b[43m,\u001b[49m\n\u001b[0;32m    344\u001b[0m \u001b[43m        \u001b[49m\u001b[43mn_retries\u001b[49m\u001b[38;5;241;43m=\u001b[39;49m\u001b[43mn_retries\u001b[49m\u001b[43m,\u001b[49m\n\u001b[0;32m    345\u001b[0m \u001b[43m        \u001b[49m\u001b[43mdelay\u001b[49m\u001b[38;5;241;43m=\u001b[39;49m\u001b[43mdelay\u001b[49m\u001b[43m,\u001b[49m\n\u001b[0;32m    346\u001b[0m \u001b[43m    \u001b[49m\u001b[43m)\u001b[49m\n\u001b[0;32m    348\u001b[0m \u001b[38;5;28;01mreturn\u001b[39;00m json_data[\u001b[38;5;124m\"\u001b[39m\u001b[38;5;124mdata\u001b[39m\u001b[38;5;124m\"\u001b[39m][\u001b[38;5;124m\"\u001b[39m\u001b[38;5;124mdataset\u001b[39m\u001b[38;5;124m\"\u001b[39m][\u001b[38;5;241m0\u001b[39m]\n",
      "File \u001b[1;32mc:\\Users\\gulam\\AppData\\Local\\Programs\\Python\\Python312\\Lib\\site-packages\\sklearn\\datasets\\_openml.py:251\u001b[0m, in \u001b[0;36m_get_json_content_from_openml_api\u001b[1;34m(url, error_message, data_home, n_retries, delay)\u001b[0m\n\u001b[0;32m    248\u001b[0m         \u001b[38;5;28;01mraise\u001b[39;00m error\n\u001b[0;32m    250\u001b[0m \u001b[38;5;66;03m# 412 error, not in except for nicer traceback\u001b[39;00m\n\u001b[1;32m--> 251\u001b[0m \u001b[38;5;28;01mraise\u001b[39;00m OpenMLError(error_message)\n",
      "\u001b[1;31mOpenMLError\u001b[0m: Dataset emnist-balanced with version 1 not found."
     ]
    }
   ],
   "source": [
    "# Fetching mnist data\n",
    "dtaset = fetch_openml('mnist_784', version=1)"
   ]
  },
  {
   "cell_type": "code",
   "execution_count": null,
   "metadata": {},
   "outputs": [],
   "source": [
    "# Extracting data and target\n",
    "X = dtaset['data']\n",
    "Y = dtaset['target'] "
   ]
  },
  {
   "cell_type": "markdown",
   "metadata": {},
   "source": [
    "3 - Splitting the Data\n",
    "    The dataset is split into training and testing sets using an 80-20 split. The train_test_split function is used for this purpose.\n",
    "    The training set (x_train, y_train) is used to train the model, and the testing set (x_test, y_test) is used to evaluate its performance."
   ]
  },
  {
   "cell_type": "code",
   "execution_count": null,
   "metadata": {},
   "outputs": [],
   "source": [
    "# Split the dataset into training and testing sets\n",
    "x_train,x_test,y_train,y_test = train_test_split(dtaset.data,dtaset.target,test_size=0.2,random_state=45)\n",
    "x_train = x_train.values"
   ]
  },
  {
   "cell_type": "markdown",
   "metadata": {},
   "source": [
    "4 - Reshaping and Visualizing Data:\n",
    "    An image from the training set is selected and reshaped to 28x28 pixels for visualization.\n",
    "    The reshaped image is displayed using matplotlib.\n",
    "    plt.imshow(some_digit_image, cmap='gray'): Displays the image using a grayscale colormap.\n",
    "    plt.axis('off'): Hides the axes for a cleaner image display.\n",
    "    plt.show(): Renders the image."
   ]
  },
  {
   "cell_type": "code",
   "execution_count": null,
   "metadata": {},
   "outputs": [],
   "source": [
    "# Reshaping the image and Ploting\n",
    "some_digit = x_train[36010]\n",
    "some_digit_image = some_digit.reshape(28, 28)\n",
    "\n",
    "plt.imshow(some_digit_image, cmap='gray')\n",
    "plt.axis('off')\n",
    "plt.show()"
   ]
  },
  {
   "cell_type": "markdown",
   "metadata": {},
   "source": [
    "5 - Training the Logistic Regression Model\n",
    "    A logistic regression model is instantiated and trained on the training data.\n",
    "    The model is fitted using the training data (x_train, y_train)."
   ]
  },
  {
   "cell_type": "code",
   "execution_count": null,
   "metadata": {},
   "outputs": [],
   "source": [
    "#Training the model\n",
    "model = LogisticRegression(max_iter=1000)\n",
    "model.fit(x_train,y_train)"
   ]
  },
  {
   "cell_type": "markdown",
   "metadata": {},
   "source": [
    "6 - Making Predictions:\n",
    "    The trained model makes a prediction on the selected image.\n",
    "    The predicted digit is printed."
   ]
  },
  {
   "cell_type": "code",
   "execution_count": null,
   "metadata": {},
   "outputs": [],
   "source": [
    "# Making Prediction\n",
    "model.predict([some_digit])\n",
    "print('The predicted digit is ',model.predict([some_digit]))"
   ]
  },
  {
   "cell_type": "markdown",
   "metadata": {},
   "source": [
    "7 - Evaluating the Model:\n",
    "    The accuracy of the model is evaluated using cross-validation with 3 folds. The cross_val_score function is used to perform this evaluation."
   ]
  },
  {
   "cell_type": "code",
   "execution_count": null,
   "metadata": {},
   "outputs": [],
   "source": [
    "# Accuracy testing\n",
    "cross_val_score(model,x_train,y_train,cv=3,scoring='accuracy')"
   ]
  }
 ],
 "metadata": {
  "kernelspec": {
   "display_name": "Python 3 (ipykernel)",
   "language": "python",
   "name": "python3"
  },
  "language_info": {
   "codemirror_mode": {
    "name": "ipython",
    "version": 3
   },
   "file_extension": ".py",
   "mimetype": "text/x-python",
   "name": "python",
   "nbconvert_exporter": "python",
   "pygments_lexer": "ipython3",
   "version": "3.12.5"
  }
 },
 "nbformat": 4,
 "nbformat_minor": 4
}
